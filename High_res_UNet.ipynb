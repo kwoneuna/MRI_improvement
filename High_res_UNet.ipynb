{
 "cells": [
  {
   "cell_type": "markdown",
   "id": "fbac310f",
   "metadata": {},
   "source": [
    "### import"
   ]
  },
  {
   "cell_type": "code",
   "execution_count": 1,
   "id": "65751895",
   "metadata": {},
   "outputs": [
    {
     "name": "stderr",
     "output_type": "stream",
     "text": [
      "Failed to load image Python extension: /home/hufsbme/anaconda3/envs/infant/lib/python3.10/site-packages/torchvision/image.so: undefined symbol: _ZN5torch3jit17parseSchemaOrNameERKNSt7__cxx1112basic_stringIcSt11char_traitsIcESaIcEEE\n"
     ]
    },
    {
     "name": "stdout",
     "output_type": "stream",
     "text": [
      "MONAI version: 1.2.dev2304\n",
      "Numpy version: 1.23.5\n",
      "Pytorch version: 1.13.1+cu117\n",
      "MONAI flags: HAS_EXT = False, USE_COMPILED = False, USE_META_DICT = False\n",
      "MONAI rev id: 9a57be5aab9f2c2a134768c0c146399150e247a0\n",
      "MONAI __file__: /home/hufsbme/.local/lib/python3.10/site-packages/monai/__init__.py\n",
      "\n",
      "Optional dependencies:\n",
      "Pytorch Ignite version: 0.4.10\n",
      "ITK version: 5.3.0\n",
      "Nibabel version: 5.0.0\n",
      "scikit-image version: 0.19.3\n",
      "Pillow version: 9.3.0\n",
      "Tensorboard version: 2.12.3\n",
      "gdown version: 4.6.0\n",
      "TorchVision version: 0.13.1a0\n",
      "tqdm version: 4.64.1\n",
      "lmdb version: 1.4.0\n",
      "psutil version: 5.9.0\n",
      "pandas version: 1.5.3\n",
      "einops version: 0.6.0\n",
      "transformers version: 4.21.3\n",
      "mlflow version: 2.1.1\n",
      "pynrrd version: 1.0.0\n",
      "\n",
      "For details about installing the optional dependencies, please visit:\n",
      "    https://docs.monai.io/en/latest/installation.html#installing-the-recommended-dependencies\n",
      "\n"
     ]
    }
   ],
   "source": [
    "import os\n",
    "import pandas as pd\n",
    "import random\n",
    "import matplotlib.pyplot as plt\n",
    "import numpy as np\n",
    "from tqdm import tqdm\n",
    "import monai\n",
    "from monai import transforms\n",
    "from monai.utils import set_determinism, first\n",
    "from monai.transforms import(\n",
    "    AsDiscrete,\n",
    "    AddChanneld,\n",
    "    Compose,\n",
    "    CropForegroundd,\n",
    "    EnsureChannelFirstd,\n",
    "    LoadImaged,\n",
    "    RandFlipd,\n",
    "    RandCropByPosNegLabeld,\n",
    "    RandSpatialCropSamplesd,\n",
    "    RandShiftIntensityd,\n",
    "    RandZoomd,\n",
    "    ScaleIntensityd,\n",
    "    Spacingd,\n",
    "    SpatialPadd,\n",
    "    GaussianSmoothd,\n",
    "    RandRotate90d,\n",
    "    ToTensord,\n",
    "    RandSpatialCropd,\n",
    "    RandGaussianSmoothd,    \n",
    "    RandGaussianSharpend,\n",
    "    RandGaussianNoise,\n",
    "    RandGaussianNoised,\n",
    "    \n",
    ")\n",
    "from generative.losses import PatchAdversarialLoss, PerceptualLoss\n",
    "from monai.config import print_config\n",
    "from monai.losses import DiceCELoss\n",
    "from monai.metrics import DiceMetric\n",
    "\n",
    "from monai.data import (\n",
    "    DataLoader,\n",
    "    Dataset,\n",
    "    CacheDataset,\n",
    "    load_decathlon_datalist,\n",
    "    decollate_batch,\n",
    ")\n",
    "from monai.networks.nets import UNet\n",
    "from skimage import measure\n",
    "from sklearn.metrics import roc_auc_score\n",
    "\n",
    "import torch\n",
    "import glob\n",
    "print_config()"
   ]
  },
  {
   "cell_type": "code",
   "execution_count": 2,
   "id": "aad851ce",
   "metadata": {},
   "outputs": [],
   "source": [
    "\n",
    "from models.network_swinir import SwinIR as net\n"
   ]
  },
  {
   "cell_type": "code",
   "execution_count": 3,
   "id": "6647eee1",
   "metadata": {},
   "outputs": [
    {
     "name": "stdout",
     "output_type": "stream",
     "text": [
      "cuda:0\n"
     ]
    }
   ],
   "source": [
    "if torch.cuda.is_available():\n",
    "    device = torch.device('cuda:0')\n",
    "else:\n",
    "    device = torch.device('cpu')\n",
    "\n",
    "print(device)"
   ]
  },
  {
   "cell_type": "code",
   "execution_count": null,
   "id": "d30a3a1b",
   "metadata": {},
   "outputs": [],
   "source": [
    "!nvidia-smi"
   ]
  },
  {
   "cell_type": "markdown",
   "id": "7fd2a885",
   "metadata": {},
   "source": [
    "### data"
   ]
  },
  {
   "cell_type": "code",
   "execution_count": 4,
   "id": "ef2ea03a",
   "metadata": {},
   "outputs": [
    {
     "data": {
      "text/plain": [
       "['/nfs/hufsaims/kjh_shared/euna/data_bcp/resolution_down/T2_0.nii.gz',\n",
       " '/nfs/hufsaims/kjh_shared/euna/data_bcp/resolution_down/T2_1.nii.gz',\n",
       " '/nfs/hufsaims/kjh_shared/euna/data_bcp/resolution_down/T2_2.nii.gz',\n",
       " '/nfs/hufsaims/kjh_shared/euna/data_bcp/resolution_down/T2_3.nii.gz',\n",
       " '/nfs/hufsaims/kjh_shared/euna/data_bcp/resolution_down/T2_4.nii.gz',\n",
       " '/nfs/hufsaims/kjh_shared/euna/data_bcp/resolution_down/T2_5.nii.gz',\n",
       " '/nfs/hufsaims/kjh_shared/euna/data_bcp/resolution_down/T2_6.nii.gz',\n",
       " '/nfs/hufsaims/kjh_shared/euna/data_bcp/resolution_down/T2_7.nii.gz',\n",
       " '/nfs/hufsaims/kjh_shared/euna/data_bcp/resolution_down/T2_8.nii.gz',\n",
       " '/nfs/hufsaims/kjh_shared/euna/data_bcp/resolution_down/T2_9.nii.gz',\n",
       " '/nfs/hufsaims/kjh_shared/euna/data_bcp/resolution_down/T2_10.nii.gz',\n",
       " '/nfs/hufsaims/kjh_shared/euna/data_bcp/resolution_down/T2_11.nii.gz',\n",
       " '/nfs/hufsaims/kjh_shared/euna/data_bcp/resolution_down/T2_12.nii.gz',\n",
       " '/nfs/hufsaims/kjh_shared/euna/data_bcp/resolution_down/T2_13.nii.gz',\n",
       " '/nfs/hufsaims/kjh_shared/euna/data_bcp/resolution_down/T2_14.nii.gz',\n",
       " '/nfs/hufsaims/kjh_shared/euna/data_bcp/resolution_down/T2_15.nii.gz',\n",
       " '/nfs/hufsaims/kjh_shared/euna/data_bcp/resolution_down/T2_16.nii.gz',\n",
       " '/nfs/hufsaims/kjh_shared/euna/data_bcp/resolution_down/T2_17.nii.gz',\n",
       " '/nfs/hufsaims/kjh_shared/euna/data_bcp/resolution_down/T2_18.nii.gz',\n",
       " '/nfs/hufsaims/kjh_shared/euna/data_bcp/resolution_down/T2_19.nii.gz',\n",
       " '/nfs/hufsaims/kjh_shared/euna/data_bcp/resolution_down/T2_20.nii.gz',\n",
       " '/nfs/hufsaims/kjh_shared/euna/data_bcp/resolution_down/T2_21.nii.gz',\n",
       " '/nfs/hufsaims/kjh_shared/euna/data_bcp/resolution_down/T2_22.nii.gz',\n",
       " '/nfs/hufsaims/kjh_shared/euna/data_bcp/resolution_down/T2_23.nii.gz',\n",
       " '/nfs/hufsaims/kjh_shared/euna/data_bcp/resolution_down/T2_24.nii.gz',\n",
       " '/nfs/hufsaims/kjh_shared/euna/data_bcp/resolution_down/T2_25.nii.gz']"
      ]
     },
     "execution_count": 4,
     "metadata": {},
     "output_type": "execute_result"
    }
   ],
   "source": [
    "import os\n",
    "import glob\n",
    "data_dir =  glob.glob('/nfs/hufsaims/kjh_shared/euna/data_bcp/*/*/3D_T2_*.nii.gz')\n",
    "data_dir2 = glob.glob('/nfs/hufsaims/kjh_shared/euna/data_bcp/resolution_down//T2_*.nii.gz')\n",
    "data_size = len(data_dir) #26\n",
    "train = int(data_size*0.9)\n",
    "data_dir\n",
    "data_dir2"
   ]
  },
  {
   "cell_type": "code",
   "execution_count": null,
   "id": "89f63ae7",
   "metadata": {},
   "outputs": [],
   "source": [
    "len(data_dir),len(data_dir2)"
   ]
  },
  {
   "cell_type": "code",
   "execution_count": 5,
   "id": "cc2a8b1b",
   "metadata": {},
   "outputs": [],
   "source": [
    "train_ind = np.arange(0, 1)\n",
    "#basal bcp : 123-150\n",
    "#random으로 n\n",
    "#cmcep\n",
    "\n",
    "data_dicts = [\n",
    "    {\n",
    "        'image' : data_dir[i],\n",
    "        'low_res_image' : data_dir2[i]\n",
    "        \n",
    "    }for i in train_ind\n",
    "]\n",
    "train_data = data_dicts\n",
    "\n",
    "valid_ind = np.arange(0, 1)\n",
    "#valid_ind = np.arange(25, 34)\n",
    "data_dicts = [\n",
    "    {\n",
    "        'image' : data_dir[i],\n",
    "        'low_res_image': data_dir2[i]\n",
    "         \n",
    "    }for i in valid_ind\n",
    "]\n",
    "valid_data = data_dicts"
   ]
  },
  {
   "cell_type": "markdown",
   "id": "00feb3d2",
   "metadata": {},
   "source": [
    "## transform & dataloader"
   ]
  },
  {
   "cell_type": "code",
   "execution_count": 6,
   "id": "7247ff0c",
   "metadata": {},
   "outputs": [
    {
     "name": "stderr",
     "output_type": "stream",
     "text": [
      "Loading dataset:   0%|                                    | 0/1 [00:00<?, ?it/s]Modifying image pixdim from [0.80000013 0.80000025 0.7999995  1.        ] to [  0.80000012   0.80000029   0.79999945 199.94718937]\n",
      "Loading dataset: 100%|████████████████████████████| 1/1 [00:01<00:00,  1.26s/it]\n"
     ]
    }
   ],
   "source": [
    "train_transforms = transforms.Compose(\n",
    "    [\n",
    "        transforms.LoadImaged(keys=[\"image\",'low_res_image']),\n",
    "        transforms.EnsureChannelFirstd(keys=[\"image\",\"low_res_image\"]),\n",
    "        transforms.ScaleIntensityd(\n",
    "                keys=[\"image\",'low_res_image'],\n",
    "                minv=0.0,\n",
    "                maxv=1.0,\n",
    "        ),           \n",
    "#         RandZoomd(\n",
    "#             keys=[\"image\", \"low_res_image\"],\n",
    "#             prob = 0.5,\n",
    "#             min_zoom = .8,\n",
    "#             max_zoom = 1.25,\n",
    "#             mode = ['area','nearest']\n",
    "#         ),\n",
    "#         RandGaussianNoised(keys = ['image','low_res_image'], prob= .333, mean = 0, std = 0.01),\n",
    "\n",
    "#         transforms.SpatialPadd(keys=['image','low_res_image'],spatial_size=(256,256,256)),\n",
    "        transforms.CenterSpatialCropd(keys=['image','low_res_image'],roi_size = (192,192,192)),\n",
    "#         transforms.RandRotated(keys = ['image','low_res_image'],prob=0.5,range_x=[0.25,0.25])\n",
    "\n",
    "    ]\n",
    ")\n",
    "train_ds = CacheDataset(data=train_data, transform=train_transforms)\n",
    "train_loader = DataLoader(train_ds, batch_size=4, shuffle=True, num_workers=4, persistent_workers=True)"
   ]
  },
  {
   "cell_type": "code",
   "execution_count": 7,
   "id": "fe9a2db0",
   "metadata": {},
   "outputs": [
    {
     "name": "stderr",
     "output_type": "stream",
     "text": [
      "Auto-removal of overlapping axes is deprecated since 3.6 and will be removed two minor releases later; explicitly call ax.remove() as needed.\n",
      "Auto-removal of overlapping axes is deprecated since 3.6 and will be removed two minor releases later; explicitly call ax.remove() as needed.\n"
     ]
    },
    {
     "data": {
      "image/png": "[encoded data removed]",
      "text/plain": [
       "<Figure size 640x480 with 2 Axes>"
      ]
     },
     "metadata": {},
     "output_type": "display_data"
    }
   ],
   "source": [
    "check_data = first(train_loader)\n",
    "fig, ax = plt.subplots(nrows=1,ncols=3)\n",
    "for i in range(1):\n",
    "    plt.subplot(121)\n",
    "    plt.title('image')\n",
    "    plt.imshow(check_data['image'][i,0,:,100,:],cmap = 'gray')\n",
    "    plt.axis('off')\n",
    "    plt.subplot(122)\n",
    "    plt.title('low res image')\n",
    "    plt.imshow(check_data['low_res_image'][i,0,:,100,:],cmap = 'gray')\n",
    "    plt.axis('off')\n",
    "    plt.show()\n",
    "  "
   ]
  },
  {
   "cell_type": "code",
   "execution_count": 10,
   "id": "c5cbaa94",
   "metadata": {},
   "outputs": [
    {
     "data": {
      "text/plain": [
       "torch.Size([1, 1, 192, 192, 192])"
      ]
     },
     "execution_count": 10,
     "metadata": {},
     "output_type": "execute_result"
    }
   ],
   "source": [
    "check_data['low_res_image'].size()"
   ]
  },
  {
   "cell_type": "code",
   "execution_count": null,
   "id": "de6fb27b",
   "metadata": {},
   "outputs": [],
   "source": [
    "# # import nibabel as nib\n",
    "# for i in range(len(data_dir)):\n",
    "#     nifti_img = nib.load(data_dir[i])\n",
    "#     image = nifti_img.get_fdata()\n",
    "#     image2= nib.load(data_dir2[i])\n",
    "#     image2 = image2.get_fdata() #208,320,320\n",
    "    \n",
    "#     plt.subplot(121)\n",
    "#     plt.imshow(image[:,150,:],cmap='gray')\n",
    "#     plt.subplot(122)\n",
    "#     plt.imshow(image2[:,150,:],cmap='gray')\n",
    "#     plt.show()"
   ]
  },
  {
   "cell_type": "code",
   "execution_count": null,
   "id": "c7081b1f",
   "metadata": {},
   "outputs": [],
   "source": [
    "!nvidia-smi"
   ]
  },
  {
   "cell_type": "markdown",
   "id": "004f8c08",
   "metadata": {},
   "source": [
    "## validation"
   ]
  },
  {
   "cell_type": "code",
   "execution_count": null,
   "id": "b1c9847f",
   "metadata": {},
   "outputs": [],
   "source": [
    "val_transforms = transforms.Compose(\n",
    "    [\n",
    "          transforms.LoadImaged(keys=[\"image\",'low_res_image']),\n",
    "        transforms.EnsureChannelFirstd(keys=[\"image\",\"low_res_image\"]),\n",
    "        transforms.ScaleIntensityd(\n",
    "                keys=[\"image\",'low_res_image'],\n",
    "                minv=0.0,\n",
    "                maxv=1.0,\n",
    "        ),           \n",
    "#         transforms.SpatialPadd(keys=['image','low_res_image'],spatial_size=(256,256,256)),\n",
    "        transforms.CenterSpatialCropd(keys=['image','low_res_image'],roi_size = (192,192,192)),\n",
    "    ]\n",
    ")\n",
    "val_ds = CacheDataset(data=valid_data, transform=val_transforms)\n",
    "val_loader = DataLoader(val_ds, batch_size=2, shuffle=True, num_workers=4)"
   ]
  },
  {
   "cell_type": "code",
   "execution_count": null,
   "id": "6e128996",
   "metadata": {},
   "outputs": [],
   "source": [
    "check_data = first(val_loader)\n",
    "fig, ax = plt.subplots(nrows=1,ncols=3)\n",
    "for i in range(1):\n",
    "    plt.subplot(121)\n",
    "    plt.title('image')\n",
    "    plt.imshow(check_data['image'][i,0,:,100,:],cmap = 'gray')\n",
    "    plt.subplot(122)\n",
    "    plt.title('low res image')\n",
    "    plt.imshow(check_data['low_res_image'][i,0,:,100,:],cmap = 'gray')\n",
    "    plt.axis('off')\n",
    "    plt.show()\n",
    "  "
   ]
  },
  {
   "cell_type": "code",
   "execution_count": null,
   "id": "4672c57c",
   "metadata": {},
   "outputs": [],
   "source": [
    "check_data['image'].shape"
   ]
  },
  {
   "cell_type": "code",
   "execution_count": null,
   "id": "3138d0d2",
   "metadata": {},
   "outputs": [],
   "source": [
    "#60-100\n",
    "plt.subplot(1,4,1)\n",
    "plt.imshow(check_data['image'][0,0,:,100,:],cmap = 'gray')\n",
    "plt.subplot(1,4,2)\n",
    "plt.imshow(check_data['image'][0,0,:,80,:],cmap = 'gray')\n",
    "plt.subplot(1,4,3)\n",
    "\n",
    "plt.imshow(check_data['image'][0,0,:,70,:],cmap = 'gray')\n",
    "plt.subplot(1,4,4)\n",
    "\n",
    "plt.imshow(check_data['image'][0,0,:,30,:],cmap = 'gray')\n",
    "plt.show()"
   ]
  },
  {
   "cell_type": "markdown",
   "id": "c72a4d87",
   "metadata": {},
   "source": [
    "## Model"
   ]
  },
  {
   "cell_type": "code",
   "execution_count": null,
   "id": "e165bf1d",
   "metadata": {},
   "outputs": [],
   "source": [
    "\n",
    "def get_outnorm(x:torch.Tensor, out_norm:str='') -> torch.Tensor:\n",
    "    \"\"\" Common function to get a loss normalization value. Can\n",
    "        normalize by either the batch size ('b'), the number of\n",
    "        channels ('c'), the image size ('i') or combinations\n",
    "        ('bi', 'bci', etc)\n",
    "    \"\"\"\n",
    "    # b, c, h, w = x.size()\n",
    "    img_shape = x.shape\n",
    "\n",
    "    if not out_norm:\n",
    "        return 1\n",
    "\n",
    "    norm = 1\n",
    "    if 'b' in out_norm:\n",
    "        # normalize by batch size\n",
    "        # norm /= b\n",
    "        norm /= img_shape[0]\n",
    "    if 'c' in out_norm:\n",
    "        # normalize by the number of channels\n",
    "        # norm /= c\n",
    "        norm /= img_shape[-3]\n",
    "    if 'i' in out_norm:\n",
    "        # normalize by image/map size\n",
    "        # norm /= h*w\n",
    "        norm /= img_shape[-1]*img_shape[-2]\n",
    "\n",
    "    return norm"
   ]
  },
  {
   "cell_type": "code",
   "execution_count": null,
   "id": "ceb4e866",
   "metadata": {},
   "outputs": [],
   "source": [
    "class CharbonnierLoss(torch.nn.Module):\n",
    "    \"\"\"Charbonnier Loss (L1)\"\"\"\n",
    "    def __init__(self, eps=1e-6, out_norm:str='bci'):\n",
    "        super(CharbonnierLoss, self).__init__()\n",
    "        self.eps = eps\n",
    "        self.out_norm = out_norm\n",
    "\n",
    "    def forward(self, x, y):\n",
    "        norm = get_outnorm(x, self.out_norm)\n",
    "        loss = torch.sum(torch.sqrt((x - y).pow(2) + self.eps**2))\n",
    "        return loss*norm"
   ]
  },
  {
   "cell_type": "code",
   "execution_count": null,
   "id": "8ad43dee",
   "metadata": {},
   "outputs": [],
   "source": [
    "# model = monai.networks.nets.UNet(\n",
    "#         spatial_dims=2,\n",
    "#         in_channels=7,\n",
    "#         out_channels=1,\n",
    "#         channels=(64, 128, 256, 512),\n",
    "#         strides=(2, 2, 2),\n",
    "#         num_res_units=3,\n",
    "#     ).to(device)\n",
    "model = net(upscale=1, in_chans=7, img_size=192, window_size=4,\n",
    "                    img_range=1., depths=[3, 3, 3], embed_dim=90, num_heads=[3, 3,3],\n",
    "                    mlp_ratio=2, upsampler='', resi_connection='1conv').to(device)\n",
    "loss_function = CharbonnierLoss()\n",
    "optimizer = torch.optim.AdamW(model.parameters(), 1e-4)\n",
    "# model.load_state_dict(torch.load(os.path.join(\"./High_res_UNet_v5.pth\")))"
   ]
  },
  {
   "cell_type": "code",
   "execution_count": null,
   "id": "8d65d96a",
   "metadata": {},
   "outputs": [],
   "source": [
    "def validation(val_loader):\n",
    "    model.eval()\n",
    "    with torch.no_grad():\n",
    "        for step,batch in tqdm(enumerate(val_loader)):\n",
    "#             rand = random.randint(30,100)\n",
    "            rand= 70\n",
    "            images = batch['low_res_image']\n",
    "            images = images.squeeze(1)\n",
    "            images = images[...,rand:rand+7,:].to(device)\n",
    "            images = images.permute(0,2,1,3)\n",
    "\n",
    "            target = batch['image'][...,rand+3,:].to(device)\n",
    "            \n",
    "            val_output = model(images)\n",
    "\n",
    "            loss = loss_function(val_output,target)\n",
    "    plt.subplot(131)\n",
    "    plt.imshow(images[0,4,...].detach().cpu(),cmap='gray')\n",
    "    plt.axis('off')\n",
    "    plt.title('input')\n",
    "\n",
    "    plt.subplot(132)\n",
    "    plt.imshow(target[0,0,...].detach().cpu(),cmap='gray')\n",
    "    plt.axis('off')\n",
    "    plt.title('gt')\n",
    "\n",
    "    plt.subplot(133)\n",
    "    plt.imshow(val_output[0,0,...].detach().cpu(),cmap='gray')\n",
    "    plt.title('prediction')\n",
    "\n",
    "    plt.axis('off')\n",
    "    plt.show()\n",
    "    return loss.item()\n",
    "    "
   ]
  },
  {
   "cell_type": "code",
   "execution_count": null,
   "id": "e28feca8",
   "metadata": {
    "scrolled": true
   },
   "outputs": [],
   "source": [
    "#60-110 슬라이스 쓰기\n",
    "train_loss = []\n",
    "val_loss = []\n",
    "dice_val_best = 100\n",
    "dice_val = 0\n",
    "for epoch in range(7000):\n",
    "    epoch_loss = 0\n",
    "    model.train()\n",
    "    for step,batch in tqdm(enumerate(train_loader)):\n",
    "#         rand = random.randint(30,100) \n",
    "        rand= 70\n",
    "        images = batch['low_res_image']\n",
    "        images = images.squeeze(1)\n",
    "        images = images[...,rand:rand+7,:].to(device)\n",
    "        images = images.permute(0,2,1,3)\n",
    "        \n",
    "        target = batch['image'][...,rand+3,:].to(device)\n",
    "        \n",
    "        output = model(images)\n",
    "        optimizer.zero_grad()\n",
    "        \n",
    "        loss = loss_function(output,target)\n",
    "        \n",
    "        loss.backward()\n",
    "        \n",
    "        epoch_loss += loss.item()\n",
    "        \n",
    "        optimizer.step()\n",
    "        \n",
    "    train_loss.append(epoch_loss/(step+1))\n",
    "    print(f'Epoch {epoch+1}, Loss: {epoch_loss/len(train_loader)}')\n",
    "    if epoch % 50 == 0:\n",
    "        dice_val = validation(val_loader)\n",
    "        dice_val = (dice_val/len(val_loader))\n",
    "        val_loss.append(dice_val)\n",
    "        \n",
    "        plt.subplot(121)\n",
    "        plt.plot(train_loss,label='train')\n",
    "        plt.legend(loc='lower left')\n",
    "        plt.subplot(122)\n",
    "        plt.plot(val_loss,label='valid')\n",
    "        plt.legend(loc='lower left')\n",
    "        plt.title('Loss Curve')\n",
    "        plt.show()\n",
    "    \n",
    "        if dice_val < dice_val_best:\n",
    "            dice_val_best = dice_val\n",
    "            torch.save(model.state_dict(),os.path.join(f'./SwinUNetIR_v4.pth'))\n",
    "            print(f'Model was saved! Current Best Dice {dice_val_best}')\n",
    "\n",
    "   \n",
    "        \n",
    "        "
   ]
  },
  {
   "cell_type": "code",
   "execution_count": null,
   "id": "da9ea111",
   "metadata": {},
   "outputs": [],
   "source": [
    "model = monai.networks.nets.UNet(\n",
    "        spatial_dims=2,\n",
    "        in_channels=7,\n",
    "        out_channels=1,\n",
    "        channels=(64, 128, 256, 512),\n",
    "        strides=(2, 2, 2),\n",
    "        num_res_units=3,\n",
    "    ).to(device)\n",
    "# loss_function = torch.nn.L1Loss()\n",
    "# mseloss = torch.nn.MSELoss()\n",
    "# perceptual_loss = PerceptualLoss(spatial_dims = 2,network_type = 'alex').to(device)\n",
    "\n",
    "optimizer = torch.optim.AdamW(model.parameters(), 1e-4)"
   ]
  },
  {
   "cell_type": "code",
   "execution_count": null,
   "id": "7c15f4c3",
   "metadata": {},
   "outputs": [],
   "source": [
    "def validation(val_loader):\n",
    "    model.eval()\n",
    "    with torch.no_grad():\n",
    "        for step,batch in tqdm(enumerate(val_loader)):\n",
    "#             rand = random.randint(30,100)\n",
    "            rand= 70\n",
    "            images = batch['low_res_image']\n",
    "            images = images.squeeze(1)\n",
    "            images = images[...,rand:rand+7,:].to(device)\n",
    "            images = images.permute(0,2,1,3)\n",
    "\n",
    "            target = batch['image'][...,rand+3,:].to(device)\n",
    "            \n",
    "            val_output = model(images)\n",
    "\n",
    "            loss = loss_function(val_output,target)\n",
    "    plt.subplot(131)\n",
    "    plt.imshow(images[0,4,...].detach().cpu(),cmap='gray')\n",
    "    plt.axis('off')\n",
    "    plt.title('input')\n",
    "\n",
    "    plt.subplot(132)\n",
    "    plt.imshow(target[0,0,...].detach().cpu(),cmap='gray')\n",
    "    plt.axis('off')\n",
    "    plt.title('gt')\n",
    "\n",
    "    plt.subplot(133)\n",
    "    plt.imshow(val_output[0,0,...].detach().cpu(),cmap='gray')\n",
    "    plt.title('prediction')\n",
    "\n",
    "    plt.axis('off')\n",
    "    plt.show()\n",
    "    return loss.item()"
   ]
  },
  {
   "cell_type": "code",
   "execution_count": null,
   "id": "e0fd9075",
   "metadata": {},
   "outputs": [],
   "source": [
    "# 60-110 슬라이스 쓰기\n",
    "train_loss = []\n",
    "val_loss = []\n",
    "dice_val_best = 100\n",
    "dice_val = 0\n",
    "for epoch in range(1000):\n",
    "    epoch_loss = 0\n",
    "    model.train()\n",
    "    for step,batch in tqdm(enumerate(train_loader)):\n",
    "#         rand = random.randint(30,100) \n",
    "        rand= 70\n",
    "        images = batch['low_res_image']\n",
    "        images = images.squeeze(1)\n",
    "        images = images[...,rand:rand+7,:].to(device)\n",
    "        images = images.permute(0,2,1,3)\n",
    "        \n",
    "        target = batch['image'][...,rand+3,:].to(device)\n",
    "        \n",
    "        output = model(images)\n",
    "        optimizer.zero_grad()\n",
    "        \n",
    "        loss = loss_function(output,target)\n",
    "        \n",
    "        loss.backward()\n",
    "        \n",
    "        epoch_loss += loss.item()\n",
    "        \n",
    "        optimizer.step()\n",
    "        \n",
    "    train_loss.append(epoch_loss/(step+1))\n",
    "    print(f'Epoch {epoch+1}, Loss: {epoch_loss/len(train_loader)}')\n",
    "    if epoch % 50 == 0:\n",
    "        dice_val = validation(val_loader)\n",
    "        dice_val = (dice_val/len(val_loader))\n",
    "        val_loss.append(dice_val)\n",
    "        \n",
    "        plt.subplot(121)\n",
    "        plt.plot(train_loss,label='train')\n",
    "        plt.legend(loc='lower left')\n",
    "        plt.subplot(122)\n",
    "        plt.plot(val_loss,label='valid')\n",
    "        plt.legend(loc='lower left')\n",
    "        plt.title('Loss Curve')\n",
    "        plt.show()\n",
    "    \n",
    "        if dice_val < dice_val_best:\n",
    "            dice_val_best = dice_val\n",
    "#             torch.save(model.state_dict(),os.path.join(f'./UNet_test.pth'))\n",
    "            print(f'Model was saved! Current Best Dice {dice_val_best}')\n",
    "\n",
    "   "
   ]
  },
  {
   "cell_type": "code",
   "execution_count": null,
   "id": "98a4f88c",
   "metadata": {},
   "outputs": [],
   "source": [
    "model.load_state_dict(torch.load(os.path.join('./SwinUNetIR_v3.pth')))"
   ]
  },
  {
   "cell_type": "code",
   "execution_count": null,
   "id": "04c2464a",
   "metadata": {},
   "outputs": [],
   "source": [
    "model.eval()\n",
    "with torch.no_grad():\n",
    "    for step,batch in tqdm(enumerate(val_loader)):\n",
    "        rand = random.randint(60,100)\n",
    "        images = batch['low_res_image']\n",
    "        images = images.squeeze(1)\n",
    "        images = images[...,rand:rand+7,:].to(device)\n",
    "        images = images.permute(0,2,1,3)\n",
    "\n",
    "        target = batch['image'][...,rand+3,:].to(device)\n",
    "\n",
    "        val_output = model(images)\n",
    "#         loss = loss_function(val_output,target)\n",
    "        plt.subplot(131)\n",
    "        plt.imshow(images[0,4,...].detach().cpu(),cmap='gray',vmin=0,vmax=0.5)\n",
    "        plt.axis('off')\n",
    "        plt.title('input')\n",
    "\n",
    "        plt.subplot(132)\n",
    "        plt.imshow(target[0,0,...].detach().cpu(),cmap='gray',vmin=0,vmax=0.5)\n",
    "        plt.axis('off')\n",
    "        plt.title('gt')\n",
    "\n",
    "        plt.subplot(133)\n",
    "        plt.imshow(val_output[0,0,...].detach().cpu(),cmap='gray',vmin=0,vmax=0.5)\n",
    "        plt.title('prediction')\n",
    "\n",
    "        plt.axis('off')\n",
    "        plt.show()"
   ]
  },
  {
   "cell_type": "code",
   "execution_count": null,
   "id": "21ef327b",
   "metadata": {},
   "outputs": [],
   "source": [
    "torch.save(model.state_dict(),os.path.join(f'./High_res_UNet_v2.pth'))\n"
   ]
  },
  {
   "cell_type": "code",
   "execution_count": null,
   "id": "45a5b52a",
   "metadata": {},
   "outputs": [],
   "source": [
    "images.shape"
   ]
  },
  {
   "cell_type": "code",
   "execution_count": null,
   "id": "79c94811",
   "metadata": {},
   "outputs": [],
   "source": [
    "plt.imshow(output[0,0].detach().cpu(),vmin=0,vmax=1)\n",
    "plt.colorbar()"
   ]
  },
  {
   "cell_type": "code",
   "execution_count": null,
   "id": "c9f20ed7",
   "metadata": {},
   "outputs": [],
   "source": [
    "plt.imshow(images[0,3].detach().cpu(),vmin=0,vmax=.5)\n",
    "plt.colorbar()"
   ]
  },
  {
   "cell_type": "code",
   "execution_count": null,
   "id": "29b27036",
   "metadata": {},
   "outputs": [],
   "source": []
  }
 ],
 "metadata": {
  "kernelspec": {
   "display_name": "infant",
   "language": "python",
   "name": "infant"
  },
  "language_info": {
   "codemirror_mode": {
    "name": "ipython",
    "version": 3
   },
   "file_extension": ".py",
   "mimetype": "text/x-python",
   "name": "python",
   "nbconvert_exporter": "python",
   "pygments_lexer": "ipython3",
   "version": "3.10.9"
  }
 },
 "nbformat": 4,
 "nbformat_minor": 5
}
